{
  "nbformat": 4,
  "nbformat_minor": 0,
  "metadata": {
    "colab": {
      "provenance": []
    },
    "kernelspec": {
      "name": "python3",
      "display_name": "Python 3"
    },
    "language_info": {
      "name": "python"
    }
  },
  "cells": [
    {
      "cell_type": "code",
      "execution_count": null,
      "metadata": {
        "id": "ey0t13FUxQwc"
      },
      "outputs": [],
      "source": [
        "import pandas as pd\n",
        "import numpy as np\n",
        "from sklearn.model_selection import train_test_split\n",
        "import matplotlib.pyplot as plt"
      ]
    },
    {
      "cell_type": "code",
      "source": [],
      "metadata": {
        "id": "Jr1aHiZflofB"
      },
      "execution_count": null,
      "outputs": []
    },
    {
      "cell_type": "code",
      "source": [
        "## Constants\n",
        "all_patients_csv = '/content/drive/MyDrive/Capstone_GE_DSI_CV_Project/Shared_csv/all_patients.csv'\n",
        "TEST_SPLIT = 0.2"
      ],
      "metadata": {
        "id": "BQm-FSXsxyCl"
      },
      "execution_count": null,
      "outputs": []
    },
    {
      "cell_type": "code",
      "source": [
        "# Read CSV file in pandas\n",
        "df = pd.read_csv(all_patients_csv)\n",
        "df.head()"
      ],
      "metadata": {
        "colab": {
          "base_uri": "https://localhost:8080/",
          "height": 556
        },
        "id": "KpNpwT6SxSaX",
        "outputId": "793ea60f-bd15-49bb-a160-2f9789c734bf"
      },
      "execution_count": null,
      "outputs": [
        {
          "output_type": "execute_result",
          "data": {
            "text/plain": [
              "                                          Series UID          Collection  \\\n",
              "0  1.3.6.1.4.1.14519.5.2.1.4219.6651.201203836389...  FDG-PET-CT-Lesions   \n",
              "1  1.3.6.1.4.1.14519.5.2.1.4219.6651.685145825998...  FDG-PET-CT-Lesions   \n",
              "2  1.3.6.1.4.1.14519.5.2.1.4219.6651.151532511484...  FDG-PET-CT-Lesions   \n",
              "3  1.3.6.1.4.1.14519.5.2.1.4219.6651.313152023416...  FDG-PET-CT-Lesions   \n",
              "4  1.3.6.1.4.1.14519.5.2.1.4219.6651.331726561677...  FDG-PET-CT-Lesions   \n",
              "\n",
              "  3rd Party Analysis  Data Description URI        Subject ID  \\\n",
              "0                 NO                   NaN  PETCT_0011f3deaf   \n",
              "1                 NO                   NaN  PETCT_0011f3deaf   \n",
              "2                 NO                   NaN  PETCT_01140d52d8   \n",
              "3                 NO                   NaN  PETCT_01140d52d8   \n",
              "4                 NO                   NaN  PETCT_0011f3deaf   \n",
              "\n",
              "                                           Study UID  \\\n",
              "0  1.3.6.1.4.1.14519.5.2.1.4219.6651.389860614478...   \n",
              "1  1.3.6.1.4.1.14519.5.2.1.4219.6651.389860614478...   \n",
              "2  1.3.6.1.4.1.14519.5.2.1.4219.6651.316964892168...   \n",
              "3  1.3.6.1.4.1.14519.5.2.1.4219.6651.316964892168...   \n",
              "4  1.3.6.1.4.1.14519.5.2.1.4219.6651.389860614478...   \n",
              "\n",
              "                    Study Description Study Date Series Description  \\\n",
              "0  PET-CT Ganzkoerper  primaer mit KM  3/23/2003       Segmentation   \n",
              "1  PET-CT Ganzkoerper  primaer mit KM  3/23/2003          PET corr.   \n",
              "2  PET-CT Ganzkoerper  primaer mit KM  8/13/2005          PET corr.   \n",
              "3  PET-CT Ganzkoerper  primaer mit KM  8/13/2005       Segmentation   \n",
              "4  PET-CT Ganzkoerper  primaer mit KM  3/23/2003           GK p.v.3   \n",
              "\n",
              "  Manufacturer Modality                              SOP Class Name  \\\n",
              "0        QIICR      SEG                        Segmentation Storage   \n",
              "1      SIEMENS       PT  Positron Emission Tomography Image Storage   \n",
              "2      SIEMENS       PT  Positron Emission Tomography Image Storage   \n",
              "3        QIICR      SEG                        Segmentation Storage   \n",
              "4      SIEMENS       CT                            CT Image Storage   \n",
              "\n",
              "                  SOP Class UID  Number of Images  File Size  \\\n",
              "0  1.2.840.10008.5.1.4.1.1.66.4                 1    6.75 MB   \n",
              "1   1.2.840.10008.5.1.4.1.1.128               326  105.82 MB   \n",
              "2   1.2.840.10008.5.1.4.1.1.128               305   99.01 MB   \n",
              "3  1.2.840.10008.5.1.4.1.1.66.4                 1    6.31 MB   \n",
              "4     1.2.840.10008.5.1.4.1.1.2               391  206.52 MB   \n",
              "\n",
              "                                       File Location   Download Timestamp  \\\n",
              "0  ./FDG-PET-CT-Lesions/PETCT_0011f3deaf/03-23-20...  2022-03-17 12:53:17   \n",
              "1  ./FDG-PET-CT-Lesions/PETCT_0011f3deaf/03-23-20...  2022-03-17 12:53:45   \n",
              "2  ./FDG-PET-CT-Lesions/PETCT_01140d52d8/08-13-20...  2022-03-17 12:53:46   \n",
              "3  ./FDG-PET-CT-Lesions/PETCT_01140d52d8/08-13-20...  2022-03-17 12:53:48   \n",
              "4  ./FDG-PET-CT-Lesions/PETCT_0011f3deaf/03-23-20...  2022-03-17 12:53:53   \n",
              "\n",
              "  diagnosis   age sex  \n",
              "0  MELANOMA  063Y   F  \n",
              "1  MELANOMA  063Y   F  \n",
              "2  MELANOMA  061Y   M  \n",
              "3  MELANOMA  061Y   M  \n",
              "4  MELANOMA  063Y   F  "
            ],
            "text/html": [
              "\n",
              "  <div id=\"df-aa3f2614-34e1-4aeb-a89a-cd897187c11a\" class=\"colab-df-container\">\n",
              "    <div>\n",
              "<style scoped>\n",
              "    .dataframe tbody tr th:only-of-type {\n",
              "        vertical-align: middle;\n",
              "    }\n",
              "\n",
              "    .dataframe tbody tr th {\n",
              "        vertical-align: top;\n",
              "    }\n",
              "\n",
              "    .dataframe thead th {\n",
              "        text-align: right;\n",
              "    }\n",
              "</style>\n",
              "<table border=\"1\" class=\"dataframe\">\n",
              "  <thead>\n",
              "    <tr style=\"text-align: right;\">\n",
              "      <th></th>\n",
              "      <th>Series UID</th>\n",
              "      <th>Collection</th>\n",
              "      <th>3rd Party Analysis</th>\n",
              "      <th>Data Description URI</th>\n",
              "      <th>Subject ID</th>\n",
              "      <th>Study UID</th>\n",
              "      <th>Study Description</th>\n",
              "      <th>Study Date</th>\n",
              "      <th>Series Description</th>\n",
              "      <th>Manufacturer</th>\n",
              "      <th>Modality</th>\n",
              "      <th>SOP Class Name</th>\n",
              "      <th>SOP Class UID</th>\n",
              "      <th>Number of Images</th>\n",
              "      <th>File Size</th>\n",
              "      <th>File Location</th>\n",
              "      <th>Download Timestamp</th>\n",
              "      <th>diagnosis</th>\n",
              "      <th>age</th>\n",
              "      <th>sex</th>\n",
              "    </tr>\n",
              "  </thead>\n",
              "  <tbody>\n",
              "    <tr>\n",
              "      <th>0</th>\n",
              "      <td>1.3.6.1.4.1.14519.5.2.1.4219.6651.201203836389...</td>\n",
              "      <td>FDG-PET-CT-Lesions</td>\n",
              "      <td>NO</td>\n",
              "      <td>NaN</td>\n",
              "      <td>PETCT_0011f3deaf</td>\n",
              "      <td>1.3.6.1.4.1.14519.5.2.1.4219.6651.389860614478...</td>\n",
              "      <td>PET-CT Ganzkoerper  primaer mit KM</td>\n",
              "      <td>3/23/2003</td>\n",
              "      <td>Segmentation</td>\n",
              "      <td>QIICR</td>\n",
              "      <td>SEG</td>\n",
              "      <td>Segmentation Storage</td>\n",
              "      <td>1.2.840.10008.5.1.4.1.1.66.4</td>\n",
              "      <td>1</td>\n",
              "      <td>6.75 MB</td>\n",
              "      <td>./FDG-PET-CT-Lesions/PETCT_0011f3deaf/03-23-20...</td>\n",
              "      <td>2022-03-17 12:53:17</td>\n",
              "      <td>MELANOMA</td>\n",
              "      <td>063Y</td>\n",
              "      <td>F</td>\n",
              "    </tr>\n",
              "    <tr>\n",
              "      <th>1</th>\n",
              "      <td>1.3.6.1.4.1.14519.5.2.1.4219.6651.685145825998...</td>\n",
              "      <td>FDG-PET-CT-Lesions</td>\n",
              "      <td>NO</td>\n",
              "      <td>NaN</td>\n",
              "      <td>PETCT_0011f3deaf</td>\n",
              "      <td>1.3.6.1.4.1.14519.5.2.1.4219.6651.389860614478...</td>\n",
              "      <td>PET-CT Ganzkoerper  primaer mit KM</td>\n",
              "      <td>3/23/2003</td>\n",
              "      <td>PET corr.</td>\n",
              "      <td>SIEMENS</td>\n",
              "      <td>PT</td>\n",
              "      <td>Positron Emission Tomography Image Storage</td>\n",
              "      <td>1.2.840.10008.5.1.4.1.1.128</td>\n",
              "      <td>326</td>\n",
              "      <td>105.82 MB</td>\n",
              "      <td>./FDG-PET-CT-Lesions/PETCT_0011f3deaf/03-23-20...</td>\n",
              "      <td>2022-03-17 12:53:45</td>\n",
              "      <td>MELANOMA</td>\n",
              "      <td>063Y</td>\n",
              "      <td>F</td>\n",
              "    </tr>\n",
              "    <tr>\n",
              "      <th>2</th>\n",
              "      <td>1.3.6.1.4.1.14519.5.2.1.4219.6651.151532511484...</td>\n",
              "      <td>FDG-PET-CT-Lesions</td>\n",
              "      <td>NO</td>\n",
              "      <td>NaN</td>\n",
              "      <td>PETCT_01140d52d8</td>\n",
              "      <td>1.3.6.1.4.1.14519.5.2.1.4219.6651.316964892168...</td>\n",
              "      <td>PET-CT Ganzkoerper  primaer mit KM</td>\n",
              "      <td>8/13/2005</td>\n",
              "      <td>PET corr.</td>\n",
              "      <td>SIEMENS</td>\n",
              "      <td>PT</td>\n",
              "      <td>Positron Emission Tomography Image Storage</td>\n",
              "      <td>1.2.840.10008.5.1.4.1.1.128</td>\n",
              "      <td>305</td>\n",
              "      <td>99.01 MB</td>\n",
              "      <td>./FDG-PET-CT-Lesions/PETCT_01140d52d8/08-13-20...</td>\n",
              "      <td>2022-03-17 12:53:46</td>\n",
              "      <td>MELANOMA</td>\n",
              "      <td>061Y</td>\n",
              "      <td>M</td>\n",
              "    </tr>\n",
              "    <tr>\n",
              "      <th>3</th>\n",
              "      <td>1.3.6.1.4.1.14519.5.2.1.4219.6651.313152023416...</td>\n",
              "      <td>FDG-PET-CT-Lesions</td>\n",
              "      <td>NO</td>\n",
              "      <td>NaN</td>\n",
              "      <td>PETCT_01140d52d8</td>\n",
              "      <td>1.3.6.1.4.1.14519.5.2.1.4219.6651.316964892168...</td>\n",
              "      <td>PET-CT Ganzkoerper  primaer mit KM</td>\n",
              "      <td>8/13/2005</td>\n",
              "      <td>Segmentation</td>\n",
              "      <td>QIICR</td>\n",
              "      <td>SEG</td>\n",
              "      <td>Segmentation Storage</td>\n",
              "      <td>1.2.840.10008.5.1.4.1.1.66.4</td>\n",
              "      <td>1</td>\n",
              "      <td>6.31 MB</td>\n",
              "      <td>./FDG-PET-CT-Lesions/PETCT_01140d52d8/08-13-20...</td>\n",
              "      <td>2022-03-17 12:53:48</td>\n",
              "      <td>MELANOMA</td>\n",
              "      <td>061Y</td>\n",
              "      <td>M</td>\n",
              "    </tr>\n",
              "    <tr>\n",
              "      <th>4</th>\n",
              "      <td>1.3.6.1.4.1.14519.5.2.1.4219.6651.331726561677...</td>\n",
              "      <td>FDG-PET-CT-Lesions</td>\n",
              "      <td>NO</td>\n",
              "      <td>NaN</td>\n",
              "      <td>PETCT_0011f3deaf</td>\n",
              "      <td>1.3.6.1.4.1.14519.5.2.1.4219.6651.389860614478...</td>\n",
              "      <td>PET-CT Ganzkoerper  primaer mit KM</td>\n",
              "      <td>3/23/2003</td>\n",
              "      <td>GK p.v.3</td>\n",
              "      <td>SIEMENS</td>\n",
              "      <td>CT</td>\n",
              "      <td>CT Image Storage</td>\n",
              "      <td>1.2.840.10008.5.1.4.1.1.2</td>\n",
              "      <td>391</td>\n",
              "      <td>206.52 MB</td>\n",
              "      <td>./FDG-PET-CT-Lesions/PETCT_0011f3deaf/03-23-20...</td>\n",
              "      <td>2022-03-17 12:53:53</td>\n",
              "      <td>MELANOMA</td>\n",
              "      <td>063Y</td>\n",
              "      <td>F</td>\n",
              "    </tr>\n",
              "  </tbody>\n",
              "</table>\n",
              "</div>\n",
              "    <div class=\"colab-df-buttons\">\n",
              "\n",
              "  <div class=\"colab-df-container\">\n",
              "    <button class=\"colab-df-convert\" onclick=\"convertToInteractive('df-aa3f2614-34e1-4aeb-a89a-cd897187c11a')\"\n",
              "            title=\"Convert this dataframe to an interactive table.\"\n",
              "            style=\"display:none;\">\n",
              "\n",
              "  <svg xmlns=\"http://www.w3.org/2000/svg\" height=\"24px\" viewBox=\"0 -960 960 960\">\n",
              "    <path d=\"M120-120v-720h720v720H120Zm60-500h600v-160H180v160Zm220 220h160v-160H400v160Zm0 220h160v-160H400v160ZM180-400h160v-160H180v160Zm440 0h160v-160H620v160ZM180-180h160v-160H180v160Zm440 0h160v-160H620v160Z\"/>\n",
              "  </svg>\n",
              "    </button>\n",
              "\n",
              "  <style>\n",
              "    .colab-df-container {\n",
              "      display:flex;\n",
              "      gap: 12px;\n",
              "    }\n",
              "\n",
              "    .colab-df-convert {\n",
              "      background-color: #E8F0FE;\n",
              "      border: none;\n",
              "      border-radius: 50%;\n",
              "      cursor: pointer;\n",
              "      display: none;\n",
              "      fill: #1967D2;\n",
              "      height: 32px;\n",
              "      padding: 0 0 0 0;\n",
              "      width: 32px;\n",
              "    }\n",
              "\n",
              "    .colab-df-convert:hover {\n",
              "      background-color: #E2EBFA;\n",
              "      box-shadow: 0px 1px 2px rgba(60, 64, 67, 0.3), 0px 1px 3px 1px rgba(60, 64, 67, 0.15);\n",
              "      fill: #174EA6;\n",
              "    }\n",
              "\n",
              "    .colab-df-buttons div {\n",
              "      margin-bottom: 4px;\n",
              "    }\n",
              "\n",
              "    [theme=dark] .colab-df-convert {\n",
              "      background-color: #3B4455;\n",
              "      fill: #D2E3FC;\n",
              "    }\n",
              "\n",
              "    [theme=dark] .colab-df-convert:hover {\n",
              "      background-color: #434B5C;\n",
              "      box-shadow: 0px 1px 3px 1px rgba(0, 0, 0, 0.15);\n",
              "      filter: drop-shadow(0px 1px 2px rgba(0, 0, 0, 0.3));\n",
              "      fill: #FFFFFF;\n",
              "    }\n",
              "  </style>\n",
              "\n",
              "    <script>\n",
              "      const buttonEl =\n",
              "        document.querySelector('#df-aa3f2614-34e1-4aeb-a89a-cd897187c11a button.colab-df-convert');\n",
              "      buttonEl.style.display =\n",
              "        google.colab.kernel.accessAllowed ? 'block' : 'none';\n",
              "\n",
              "      async function convertToInteractive(key) {\n",
              "        const element = document.querySelector('#df-aa3f2614-34e1-4aeb-a89a-cd897187c11a');\n",
              "        const dataTable =\n",
              "          await google.colab.kernel.invokeFunction('convertToInteractive',\n",
              "                                                    [key], {});\n",
              "        if (!dataTable) return;\n",
              "\n",
              "        const docLinkHtml = 'Like what you see? Visit the ' +\n",
              "          '<a target=\"_blank\" href=https://colab.research.google.com/notebooks/data_table.ipynb>data table notebook</a>'\n",
              "          + ' to learn more about interactive tables.';\n",
              "        element.innerHTML = '';\n",
              "        dataTable['output_type'] = 'display_data';\n",
              "        await google.colab.output.renderOutput(dataTable, element);\n",
              "        const docLink = document.createElement('div');\n",
              "        docLink.innerHTML = docLinkHtml;\n",
              "        element.appendChild(docLink);\n",
              "      }\n",
              "    </script>\n",
              "  </div>\n",
              "\n",
              "\n",
              "<div id=\"df-c6a1b773-2b42-47d1-b6a9-1981c5fb3302\">\n",
              "  <button class=\"colab-df-quickchart\" onclick=\"quickchart('df-c6a1b773-2b42-47d1-b6a9-1981c5fb3302')\"\n",
              "            title=\"Suggest charts\"\n",
              "            style=\"display:none;\">\n",
              "\n",
              "<svg xmlns=\"http://www.w3.org/2000/svg\" height=\"24px\"viewBox=\"0 0 24 24\"\n",
              "     width=\"24px\">\n",
              "    <g>\n",
              "        <path d=\"M19 3H5c-1.1 0-2 .9-2 2v14c0 1.1.9 2 2 2h14c1.1 0 2-.9 2-2V5c0-1.1-.9-2-2-2zM9 17H7v-7h2v7zm4 0h-2V7h2v10zm4 0h-2v-4h2v4z\"/>\n",
              "    </g>\n",
              "</svg>\n",
              "  </button>\n",
              "\n",
              "<style>\n",
              "  .colab-df-quickchart {\n",
              "      --bg-color: #E8F0FE;\n",
              "      --fill-color: #1967D2;\n",
              "      --hover-bg-color: #E2EBFA;\n",
              "      --hover-fill-color: #174EA6;\n",
              "      --disabled-fill-color: #AAA;\n",
              "      --disabled-bg-color: #DDD;\n",
              "  }\n",
              "\n",
              "  [theme=dark] .colab-df-quickchart {\n",
              "      --bg-color: #3B4455;\n",
              "      --fill-color: #D2E3FC;\n",
              "      --hover-bg-color: #434B5C;\n",
              "      --hover-fill-color: #FFFFFF;\n",
              "      --disabled-bg-color: #3B4455;\n",
              "      --disabled-fill-color: #666;\n",
              "  }\n",
              "\n",
              "  .colab-df-quickchart {\n",
              "    background-color: var(--bg-color);\n",
              "    border: none;\n",
              "    border-radius: 50%;\n",
              "    cursor: pointer;\n",
              "    display: none;\n",
              "    fill: var(--fill-color);\n",
              "    height: 32px;\n",
              "    padding: 0;\n",
              "    width: 32px;\n",
              "  }\n",
              "\n",
              "  .colab-df-quickchart:hover {\n",
              "    background-color: var(--hover-bg-color);\n",
              "    box-shadow: 0 1px 2px rgba(60, 64, 67, 0.3), 0 1px 3px 1px rgba(60, 64, 67, 0.15);\n",
              "    fill: var(--button-hover-fill-color);\n",
              "  }\n",
              "\n",
              "  .colab-df-quickchart-complete:disabled,\n",
              "  .colab-df-quickchart-complete:disabled:hover {\n",
              "    background-color: var(--disabled-bg-color);\n",
              "    fill: var(--disabled-fill-color);\n",
              "    box-shadow: none;\n",
              "  }\n",
              "\n",
              "  .colab-df-spinner {\n",
              "    border: 2px solid var(--fill-color);\n",
              "    border-color: transparent;\n",
              "    border-bottom-color: var(--fill-color);\n",
              "    animation:\n",
              "      spin 1s steps(1) infinite;\n",
              "  }\n",
              "\n",
              "  @keyframes spin {\n",
              "    0% {\n",
              "      border-color: transparent;\n",
              "      border-bottom-color: var(--fill-color);\n",
              "      border-left-color: var(--fill-color);\n",
              "    }\n",
              "    20% {\n",
              "      border-color: transparent;\n",
              "      border-left-color: var(--fill-color);\n",
              "      border-top-color: var(--fill-color);\n",
              "    }\n",
              "    30% {\n",
              "      border-color: transparent;\n",
              "      border-left-color: var(--fill-color);\n",
              "      border-top-color: var(--fill-color);\n",
              "      border-right-color: var(--fill-color);\n",
              "    }\n",
              "    40% {\n",
              "      border-color: transparent;\n",
              "      border-right-color: var(--fill-color);\n",
              "      border-top-color: var(--fill-color);\n",
              "    }\n",
              "    60% {\n",
              "      border-color: transparent;\n",
              "      border-right-color: var(--fill-color);\n",
              "    }\n",
              "    80% {\n",
              "      border-color: transparent;\n",
              "      border-right-color: var(--fill-color);\n",
              "      border-bottom-color: var(--fill-color);\n",
              "    }\n",
              "    90% {\n",
              "      border-color: transparent;\n",
              "      border-bottom-color: var(--fill-color);\n",
              "    }\n",
              "  }\n",
              "</style>\n",
              "\n",
              "  <script>\n",
              "    async function quickchart(key) {\n",
              "      const quickchartButtonEl =\n",
              "        document.querySelector('#' + key + ' button');\n",
              "      quickchartButtonEl.disabled = true;  // To prevent multiple clicks.\n",
              "      quickchartButtonEl.classList.add('colab-df-spinner');\n",
              "      try {\n",
              "        const charts = await google.colab.kernel.invokeFunction(\n",
              "            'suggestCharts', [key], {});\n",
              "      } catch (error) {\n",
              "        console.error('Error during call to suggestCharts:', error);\n",
              "      }\n",
              "      quickchartButtonEl.classList.remove('colab-df-spinner');\n",
              "      quickchartButtonEl.classList.add('colab-df-quickchart-complete');\n",
              "    }\n",
              "    (() => {\n",
              "      let quickchartButtonEl =\n",
              "        document.querySelector('#df-c6a1b773-2b42-47d1-b6a9-1981c5fb3302 button');\n",
              "      quickchartButtonEl.style.display =\n",
              "        google.colab.kernel.accessAllowed ? 'block' : 'none';\n",
              "    })();\n",
              "  </script>\n",
              "</div>\n",
              "    </div>\n",
              "  </div>\n"
            ]
          },
          "metadata": {},
          "execution_count": 3
        }
      ]
    },
    {
      "cell_type": "markdown",
      "source": [
        "### Clean data to process"
      ],
      "metadata": {
        "id": "NOqfyoEO16hr"
      }
    },
    {
      "cell_type": "code",
      "source": [],
      "metadata": {
        "id": "WaTHHpEdl096"
      },
      "execution_count": null,
      "outputs": []
    },
    {
      "cell_type": "code",
      "source": [
        "# Cleaning\n",
        "to_remove = ['Series UID','Collection', '3rd Party Analysis','Data Description URI','Study UID']\n",
        "df.drop(columns=to_remove, inplace=True)\n",
        "# Clean age column\n",
        "df['age'] = df['age'].map(lambda x : int(x[:-1]) )\n",
        "# Add another column for flag\n",
        "df['cancer_flag'] = np.where(df['diagnosis'] == 'NEGATIVE', False, True)"
      ],
      "metadata": {
        "id": "wod4d8y0y5Sm"
      },
      "execution_count": null,
      "outputs": []
    },
    {
      "cell_type": "code",
      "source": [
        "df.head(3)"
      ],
      "metadata": {
        "colab": {
          "base_uri": "https://localhost:8080/",
          "height": 213
        },
        "id": "YHueo3aV02vy",
        "outputId": "83d2b521-1268-45e3-e369-a21e4a8faba1"
      },
      "execution_count": null,
      "outputs": [
        {
          "output_type": "execute_result",
          "data": {
            "text/plain": [
              "         Subject ID                   Study Description Study Date  \\\n",
              "0  PETCT_0011f3deaf  PET-CT Ganzkoerper  primaer mit KM  3/23/2003   \n",
              "1  PETCT_0011f3deaf  PET-CT Ganzkoerper  primaer mit KM  3/23/2003   \n",
              "2  PETCT_01140d52d8  PET-CT Ganzkoerper  primaer mit KM  8/13/2005   \n",
              "\n",
              "  Series Description Manufacturer Modality  \\\n",
              "0       Segmentation        QIICR      SEG   \n",
              "1          PET corr.      SIEMENS       PT   \n",
              "2          PET corr.      SIEMENS       PT   \n",
              "\n",
              "                               SOP Class Name                 SOP Class UID  \\\n",
              "0                        Segmentation Storage  1.2.840.10008.5.1.4.1.1.66.4   \n",
              "1  Positron Emission Tomography Image Storage   1.2.840.10008.5.1.4.1.1.128   \n",
              "2  Positron Emission Tomography Image Storage   1.2.840.10008.5.1.4.1.1.128   \n",
              "\n",
              "   Number of Images  File Size  \\\n",
              "0                 1    6.75 MB   \n",
              "1               326  105.82 MB   \n",
              "2               305   99.01 MB   \n",
              "\n",
              "                                       File Location   Download Timestamp  \\\n",
              "0  ./FDG-PET-CT-Lesions/PETCT_0011f3deaf/03-23-20...  2022-03-17 12:53:17   \n",
              "1  ./FDG-PET-CT-Lesions/PETCT_0011f3deaf/03-23-20...  2022-03-17 12:53:45   \n",
              "2  ./FDG-PET-CT-Lesions/PETCT_01140d52d8/08-13-20...  2022-03-17 12:53:46   \n",
              "\n",
              "  diagnosis  age sex  cancer_flag  \n",
              "0  MELANOMA   63   F         True  \n",
              "1  MELANOMA   63   F         True  \n",
              "2  MELANOMA   61   M         True  "
            ],
            "text/html": [
              "\n",
              "  <div id=\"df-dc8f56d8-5225-4021-9ce6-708a75380bbd\" class=\"colab-df-container\">\n",
              "    <div>\n",
              "<style scoped>\n",
              "    .dataframe tbody tr th:only-of-type {\n",
              "        vertical-align: middle;\n",
              "    }\n",
              "\n",
              "    .dataframe tbody tr th {\n",
              "        vertical-align: top;\n",
              "    }\n",
              "\n",
              "    .dataframe thead th {\n",
              "        text-align: right;\n",
              "    }\n",
              "</style>\n",
              "<table border=\"1\" class=\"dataframe\">\n",
              "  <thead>\n",
              "    <tr style=\"text-align: right;\">\n",
              "      <th></th>\n",
              "      <th>Subject ID</th>\n",
              "      <th>Study Description</th>\n",
              "      <th>Study Date</th>\n",
              "      <th>Series Description</th>\n",
              "      <th>Manufacturer</th>\n",
              "      <th>Modality</th>\n",
              "      <th>SOP Class Name</th>\n",
              "      <th>SOP Class UID</th>\n",
              "      <th>Number of Images</th>\n",
              "      <th>File Size</th>\n",
              "      <th>File Location</th>\n",
              "      <th>Download Timestamp</th>\n",
              "      <th>diagnosis</th>\n",
              "      <th>age</th>\n",
              "      <th>sex</th>\n",
              "      <th>cancer_flag</th>\n",
              "    </tr>\n",
              "  </thead>\n",
              "  <tbody>\n",
              "    <tr>\n",
              "      <th>0</th>\n",
              "      <td>PETCT_0011f3deaf</td>\n",
              "      <td>PET-CT Ganzkoerper  primaer mit KM</td>\n",
              "      <td>3/23/2003</td>\n",
              "      <td>Segmentation</td>\n",
              "      <td>QIICR</td>\n",
              "      <td>SEG</td>\n",
              "      <td>Segmentation Storage</td>\n",
              "      <td>1.2.840.10008.5.1.4.1.1.66.4</td>\n",
              "      <td>1</td>\n",
              "      <td>6.75 MB</td>\n",
              "      <td>./FDG-PET-CT-Lesions/PETCT_0011f3deaf/03-23-20...</td>\n",
              "      <td>2022-03-17 12:53:17</td>\n",
              "      <td>MELANOMA</td>\n",
              "      <td>63</td>\n",
              "      <td>F</td>\n",
              "      <td>True</td>\n",
              "    </tr>\n",
              "    <tr>\n",
              "      <th>1</th>\n",
              "      <td>PETCT_0011f3deaf</td>\n",
              "      <td>PET-CT Ganzkoerper  primaer mit KM</td>\n",
              "      <td>3/23/2003</td>\n",
              "      <td>PET corr.</td>\n",
              "      <td>SIEMENS</td>\n",
              "      <td>PT</td>\n",
              "      <td>Positron Emission Tomography Image Storage</td>\n",
              "      <td>1.2.840.10008.5.1.4.1.1.128</td>\n",
              "      <td>326</td>\n",
              "      <td>105.82 MB</td>\n",
              "      <td>./FDG-PET-CT-Lesions/PETCT_0011f3deaf/03-23-20...</td>\n",
              "      <td>2022-03-17 12:53:45</td>\n",
              "      <td>MELANOMA</td>\n",
              "      <td>63</td>\n",
              "      <td>F</td>\n",
              "      <td>True</td>\n",
              "    </tr>\n",
              "    <tr>\n",
              "      <th>2</th>\n",
              "      <td>PETCT_01140d52d8</td>\n",
              "      <td>PET-CT Ganzkoerper  primaer mit KM</td>\n",
              "      <td>8/13/2005</td>\n",
              "      <td>PET corr.</td>\n",
              "      <td>SIEMENS</td>\n",
              "      <td>PT</td>\n",
              "      <td>Positron Emission Tomography Image Storage</td>\n",
              "      <td>1.2.840.10008.5.1.4.1.1.128</td>\n",
              "      <td>305</td>\n",
              "      <td>99.01 MB</td>\n",
              "      <td>./FDG-PET-CT-Lesions/PETCT_01140d52d8/08-13-20...</td>\n",
              "      <td>2022-03-17 12:53:46</td>\n",
              "      <td>MELANOMA</td>\n",
              "      <td>61</td>\n",
              "      <td>M</td>\n",
              "      <td>True</td>\n",
              "    </tr>\n",
              "  </tbody>\n",
              "</table>\n",
              "</div>\n",
              "    <div class=\"colab-df-buttons\">\n",
              "\n",
              "  <div class=\"colab-df-container\">\n",
              "    <button class=\"colab-df-convert\" onclick=\"convertToInteractive('df-dc8f56d8-5225-4021-9ce6-708a75380bbd')\"\n",
              "            title=\"Convert this dataframe to an interactive table.\"\n",
              "            style=\"display:none;\">\n",
              "\n",
              "  <svg xmlns=\"http://www.w3.org/2000/svg\" height=\"24px\" viewBox=\"0 -960 960 960\">\n",
              "    <path d=\"M120-120v-720h720v720H120Zm60-500h600v-160H180v160Zm220 220h160v-160H400v160Zm0 220h160v-160H400v160ZM180-400h160v-160H180v160Zm440 0h160v-160H620v160ZM180-180h160v-160H180v160Zm440 0h160v-160H620v160Z\"/>\n",
              "  </svg>\n",
              "    </button>\n",
              "\n",
              "  <style>\n",
              "    .colab-df-container {\n",
              "      display:flex;\n",
              "      gap: 12px;\n",
              "    }\n",
              "\n",
              "    .colab-df-convert {\n",
              "      background-color: #E8F0FE;\n",
              "      border: none;\n",
              "      border-radius: 50%;\n",
              "      cursor: pointer;\n",
              "      display: none;\n",
              "      fill: #1967D2;\n",
              "      height: 32px;\n",
              "      padding: 0 0 0 0;\n",
              "      width: 32px;\n",
              "    }\n",
              "\n",
              "    .colab-df-convert:hover {\n",
              "      background-color: #E2EBFA;\n",
              "      box-shadow: 0px 1px 2px rgba(60, 64, 67, 0.3), 0px 1px 3px 1px rgba(60, 64, 67, 0.15);\n",
              "      fill: #174EA6;\n",
              "    }\n",
              "\n",
              "    .colab-df-buttons div {\n",
              "      margin-bottom: 4px;\n",
              "    }\n",
              "\n",
              "    [theme=dark] .colab-df-convert {\n",
              "      background-color: #3B4455;\n",
              "      fill: #D2E3FC;\n",
              "    }\n",
              "\n",
              "    [theme=dark] .colab-df-convert:hover {\n",
              "      background-color: #434B5C;\n",
              "      box-shadow: 0px 1px 3px 1px rgba(0, 0, 0, 0.15);\n",
              "      filter: drop-shadow(0px 1px 2px rgba(0, 0, 0, 0.3));\n",
              "      fill: #FFFFFF;\n",
              "    }\n",
              "  </style>\n",
              "\n",
              "    <script>\n",
              "      const buttonEl =\n",
              "        document.querySelector('#df-dc8f56d8-5225-4021-9ce6-708a75380bbd button.colab-df-convert');\n",
              "      buttonEl.style.display =\n",
              "        google.colab.kernel.accessAllowed ? 'block' : 'none';\n",
              "\n",
              "      async function convertToInteractive(key) {\n",
              "        const element = document.querySelector('#df-dc8f56d8-5225-4021-9ce6-708a75380bbd');\n",
              "        const dataTable =\n",
              "          await google.colab.kernel.invokeFunction('convertToInteractive',\n",
              "                                                    [key], {});\n",
              "        if (!dataTable) return;\n",
              "\n",
              "        const docLinkHtml = 'Like what you see? Visit the ' +\n",
              "          '<a target=\"_blank\" href=https://colab.research.google.com/notebooks/data_table.ipynb>data table notebook</a>'\n",
              "          + ' to learn more about interactive tables.';\n",
              "        element.innerHTML = '';\n",
              "        dataTable['output_type'] = 'display_data';\n",
              "        await google.colab.output.renderOutput(dataTable, element);\n",
              "        const docLink = document.createElement('div');\n",
              "        docLink.innerHTML = docLinkHtml;\n",
              "        element.appendChild(docLink);\n",
              "      }\n",
              "    </script>\n",
              "  </div>\n",
              "\n",
              "\n",
              "<div id=\"df-ae2125c1-424d-4a6b-a361-0e5d1b3e2368\">\n",
              "  <button class=\"colab-df-quickchart\" onclick=\"quickchart('df-ae2125c1-424d-4a6b-a361-0e5d1b3e2368')\"\n",
              "            title=\"Suggest charts\"\n",
              "            style=\"display:none;\">\n",
              "\n",
              "<svg xmlns=\"http://www.w3.org/2000/svg\" height=\"24px\"viewBox=\"0 0 24 24\"\n",
              "     width=\"24px\">\n",
              "    <g>\n",
              "        <path d=\"M19 3H5c-1.1 0-2 .9-2 2v14c0 1.1.9 2 2 2h14c1.1 0 2-.9 2-2V5c0-1.1-.9-2-2-2zM9 17H7v-7h2v7zm4 0h-2V7h2v10zm4 0h-2v-4h2v4z\"/>\n",
              "    </g>\n",
              "</svg>\n",
              "  </button>\n",
              "\n",
              "<style>\n",
              "  .colab-df-quickchart {\n",
              "      --bg-color: #E8F0FE;\n",
              "      --fill-color: #1967D2;\n",
              "      --hover-bg-color: #E2EBFA;\n",
              "      --hover-fill-color: #174EA6;\n",
              "      --disabled-fill-color: #AAA;\n",
              "      --disabled-bg-color: #DDD;\n",
              "  }\n",
              "\n",
              "  [theme=dark] .colab-df-quickchart {\n",
              "      --bg-color: #3B4455;\n",
              "      --fill-color: #D2E3FC;\n",
              "      --hover-bg-color: #434B5C;\n",
              "      --hover-fill-color: #FFFFFF;\n",
              "      --disabled-bg-color: #3B4455;\n",
              "      --disabled-fill-color: #666;\n",
              "  }\n",
              "\n",
              "  .colab-df-quickchart {\n",
              "    background-color: var(--bg-color);\n",
              "    border: none;\n",
              "    border-radius: 50%;\n",
              "    cursor: pointer;\n",
              "    display: none;\n",
              "    fill: var(--fill-color);\n",
              "    height: 32px;\n",
              "    padding: 0;\n",
              "    width: 32px;\n",
              "  }\n",
              "\n",
              "  .colab-df-quickchart:hover {\n",
              "    background-color: var(--hover-bg-color);\n",
              "    box-shadow: 0 1px 2px rgba(60, 64, 67, 0.3), 0 1px 3px 1px rgba(60, 64, 67, 0.15);\n",
              "    fill: var(--button-hover-fill-color);\n",
              "  }\n",
              "\n",
              "  .colab-df-quickchart-complete:disabled,\n",
              "  .colab-df-quickchart-complete:disabled:hover {\n",
              "    background-color: var(--disabled-bg-color);\n",
              "    fill: var(--disabled-fill-color);\n",
              "    box-shadow: none;\n",
              "  }\n",
              "\n",
              "  .colab-df-spinner {\n",
              "    border: 2px solid var(--fill-color);\n",
              "    border-color: transparent;\n",
              "    border-bottom-color: var(--fill-color);\n",
              "    animation:\n",
              "      spin 1s steps(1) infinite;\n",
              "  }\n",
              "\n",
              "  @keyframes spin {\n",
              "    0% {\n",
              "      border-color: transparent;\n",
              "      border-bottom-color: var(--fill-color);\n",
              "      border-left-color: var(--fill-color);\n",
              "    }\n",
              "    20% {\n",
              "      border-color: transparent;\n",
              "      border-left-color: var(--fill-color);\n",
              "      border-top-color: var(--fill-color);\n",
              "    }\n",
              "    30% {\n",
              "      border-color: transparent;\n",
              "      border-left-color: var(--fill-color);\n",
              "      border-top-color: var(--fill-color);\n",
              "      border-right-color: var(--fill-color);\n",
              "    }\n",
              "    40% {\n",
              "      border-color: transparent;\n",
              "      border-right-color: var(--fill-color);\n",
              "      border-top-color: var(--fill-color);\n",
              "    }\n",
              "    60% {\n",
              "      border-color: transparent;\n",
              "      border-right-color: var(--fill-color);\n",
              "    }\n",
              "    80% {\n",
              "      border-color: transparent;\n",
              "      border-right-color: var(--fill-color);\n",
              "      border-bottom-color: var(--fill-color);\n",
              "    }\n",
              "    90% {\n",
              "      border-color: transparent;\n",
              "      border-bottom-color: var(--fill-color);\n",
              "    }\n",
              "  }\n",
              "</style>\n",
              "\n",
              "  <script>\n",
              "    async function quickchart(key) {\n",
              "      const quickchartButtonEl =\n",
              "        document.querySelector('#' + key + ' button');\n",
              "      quickchartButtonEl.disabled = true;  // To prevent multiple clicks.\n",
              "      quickchartButtonEl.classList.add('colab-df-spinner');\n",
              "      try {\n",
              "        const charts = await google.colab.kernel.invokeFunction(\n",
              "            'suggestCharts', [key], {});\n",
              "      } catch (error) {\n",
              "        console.error('Error during call to suggestCharts:', error);\n",
              "      }\n",
              "      quickchartButtonEl.classList.remove('colab-df-spinner');\n",
              "      quickchartButtonEl.classList.add('colab-df-quickchart-complete');\n",
              "    }\n",
              "    (() => {\n",
              "      let quickchartButtonEl =\n",
              "        document.querySelector('#df-ae2125c1-424d-4a6b-a361-0e5d1b3e2368 button');\n",
              "      quickchartButtonEl.style.display =\n",
              "        google.colab.kernel.accessAllowed ? 'block' : 'none';\n",
              "    })();\n",
              "  </script>\n",
              "</div>\n",
              "    </div>\n",
              "  </div>\n"
            ]
          },
          "metadata": {},
          "execution_count": 5
        }
      ]
    },
    {
      "cell_type": "markdown",
      "source": [
        "### Extract data based on each cancer type"
      ],
      "metadata": {
        "id": "IbjUnaaYl-xh"
      }
    },
    {
      "cell_type": "code",
      "source": [
        "print(df['diagnosis'].value_counts())"
      ],
      "metadata": {
        "colab": {
          "base_uri": "https://localhost:8080/"
        },
        "id": "rcreUyaYmFIp",
        "outputId": "cc640202-5b7a-445e-e840-9ec3bc4fc396"
      },
      "execution_count": null,
      "outputs": [
        {
          "output_type": "stream",
          "name": "stdout",
          "text": [
            "NEGATIVE       1539\n",
            "MELANOMA        564\n",
            "LUNG_CANCER     504\n",
            "LYMPHOMA        435\n",
            "Name: diagnosis, dtype: int64\n"
          ]
        }
      ]
    },
    {
      "cell_type": "code",
      "source": [
        "df_lung_cancer = df[df['diagnosis'] == 'NEGATIVE']\n",
        "df_lung_cancer.to_csv('/content/drive/MyDrive/Capstone_GE_DSI_CV_Project/Shared_csv/negative_patients.csv')"
      ],
      "metadata": {
        "id": "vzxDPhJn81SY"
      },
      "execution_count": null,
      "outputs": []
    },
    {
      "cell_type": "code",
      "source": [
        "df_lung_cancer = df[df['diagnosis'] == 'LYMPHOMA']\n",
        "df_lung_cancer.to_csv('/content/drive/MyDrive/Capstone_GE_DSI_CV_Project/Shared_csv/lymphoma_patients.csv')"
      ],
      "metadata": {
        "id": "KwN-pw4o81U4"
      },
      "execution_count": null,
      "outputs": []
    },
    {
      "cell_type": "code",
      "source": [
        "df_lung_cancer = df[df['diagnosis'] == 'MELANOMA']\n",
        "df_lung_cancer.to_csv('/content/drive/MyDrive/Capstone_GE_DSI_CV_Project/Shared_csv/melanoma_patients.csv')"
      ],
      "metadata": {
        "id": "6B2QwIJ489pw"
      },
      "execution_count": null,
      "outputs": []
    },
    {
      "cell_type": "code",
      "source": [
        "df_lung_cancer = df[df['diagnosis'] == 'LUNG_CANCER']\n",
        "df_lung_cancer.to_csv('/content/drive/MyDrive/Capstone_GE_DSI_CV_Project/Shared_csv/lung_cancer_patients.csv')"
      ],
      "metadata": {
        "id": "kIpdsShrmOah"
      },
      "execution_count": null,
      "outputs": []
    },
    {
      "cell_type": "markdown",
      "source": [
        "### Only get the columns we need"
      ],
      "metadata": {
        "id": "IlTyn9qv_Dgw"
      }
    },
    {
      "cell_type": "code",
      "source": [
        "df2 = df[['Subject ID','age', 'sex','cancer_flag']]\n",
        "# df2 = df"
      ],
      "metadata": {
        "id": "LdXGqNtR9NI-"
      },
      "execution_count": null,
      "outputs": []
    },
    {
      "cell_type": "code",
      "source": [
        "df2 = df2.drop_duplicates()"
      ],
      "metadata": {
        "id": "aG8PxjV89NLV"
      },
      "execution_count": null,
      "outputs": []
    },
    {
      "cell_type": "code",
      "source": [
        "column_to_check = 'Subject ID'\n",
        "\n",
        "# Find elements that occur more than once\n",
        "duplicates = df2[df2.duplicated(subset=column_to_check, keep=False)][column_to_check].unique()\n",
        "print(\"Duplicates \", len(duplicates))"
      ],
      "metadata": {
        "colab": {
          "base_uri": "https://localhost:8080/"
        },
        "id": "DgskaXA4-4sX",
        "outputId": "0af1d4db-9f49-4758-abd4-f1c487994bb7"
      },
      "execution_count": null,
      "outputs": [
        {
          "output_type": "stream",
          "name": "stdout",
          "text": [
            "Duplicates  30\n"
          ]
        }
      ]
    },
    {
      "cell_type": "code",
      "source": [
        "duplicates_df = df[df['Subject ID'].isin(duplicates)]\n",
        "duplicates_df.columns"
      ],
      "metadata": {
        "colab": {
          "base_uri": "https://localhost:8080/"
        },
        "id": "xUPXZp_v-6dH",
        "outputId": "6aab8c12-0b01-41d6-9812-4e61ab0f6934"
      },
      "execution_count": null,
      "outputs": [
        {
          "output_type": "execute_result",
          "data": {
            "text/plain": [
              "Index(['Subject ID', 'Study Description', 'Study Date', 'Series Description',\n",
              "       'Manufacturer', 'Modality', 'SOP Class Name', 'SOP Class UID',\n",
              "       'Number of Images', 'File Size', 'File Location', 'Download Timestamp',\n",
              "       'diagnosis', 'age', 'sex', 'cancer_flag'],\n",
              "      dtype='object')"
            ]
          },
          "metadata": {},
          "execution_count": 14
        }
      ]
    },
    {
      "cell_type": "code",
      "source": [
        "duplicates_df = duplicates_df[['Subject ID','Study Date', 'age','sex', 'diagnosis','cancer_flag']]"
      ],
      "metadata": {
        "id": "46yzXrt7_kIh"
      },
      "execution_count": null,
      "outputs": []
    },
    {
      "cell_type": "code",
      "source": [
        "duplicates_df[duplicates_df['Subject ID'] == 'PETCT_05808cf24e'].sort_values(by='Study Date')"
      ],
      "metadata": {
        "colab": {
          "base_uri": "https://localhost:8080/",
          "height": 238
        },
        "id": "UOL4mSjnAWjD",
        "outputId": "0db1c5a8-2078-42b4-e3cc-3cad76a29642"
      },
      "execution_count": null,
      "outputs": [
        {
          "output_type": "execute_result",
          "data": {
            "text/plain": [
              "          Subject ID Study Date  age sex diagnosis  cancer_flag\n",
              "43  PETCT_05808cf24e  3/18/2006   48   M  NEGATIVE        False\n",
              "45  PETCT_05808cf24e  3/18/2006   48   M  NEGATIVE        False\n",
              "48  PETCT_05808cf24e  3/18/2006   48   M  NEGATIVE        False\n",
              "47  PETCT_05808cf24e  7/29/1999   48   M  LYMPHOMA         True\n",
              "50  PETCT_05808cf24e  7/29/1999   48   M  LYMPHOMA         True\n",
              "55  PETCT_05808cf24e  7/29/1999   48   M  LYMPHOMA         True"
            ],
            "text/html": [
              "\n",
              "  <div id=\"df-988205fe-b153-4d85-a527-3ebcd4fa30ba\" class=\"colab-df-container\">\n",
              "    <div>\n",
              "<style scoped>\n",
              "    .dataframe tbody tr th:only-of-type {\n",
              "        vertical-align: middle;\n",
              "    }\n",
              "\n",
              "    .dataframe tbody tr th {\n",
              "        vertical-align: top;\n",
              "    }\n",
              "\n",
              "    .dataframe thead th {\n",
              "        text-align: right;\n",
              "    }\n",
              "</style>\n",
              "<table border=\"1\" class=\"dataframe\">\n",
              "  <thead>\n",
              "    <tr style=\"text-align: right;\">\n",
              "      <th></th>\n",
              "      <th>Subject ID</th>\n",
              "      <th>Study Date</th>\n",
              "      <th>age</th>\n",
              "      <th>sex</th>\n",
              "      <th>diagnosis</th>\n",
              "      <th>cancer_flag</th>\n",
              "    </tr>\n",
              "  </thead>\n",
              "  <tbody>\n",
              "    <tr>\n",
              "      <th>43</th>\n",
              "      <td>PETCT_05808cf24e</td>\n",
              "      <td>3/18/2006</td>\n",
              "      <td>48</td>\n",
              "      <td>M</td>\n",
              "      <td>NEGATIVE</td>\n",
              "      <td>False</td>\n",
              "    </tr>\n",
              "    <tr>\n",
              "      <th>45</th>\n",
              "      <td>PETCT_05808cf24e</td>\n",
              "      <td>3/18/2006</td>\n",
              "      <td>48</td>\n",
              "      <td>M</td>\n",
              "      <td>NEGATIVE</td>\n",
              "      <td>False</td>\n",
              "    </tr>\n",
              "    <tr>\n",
              "      <th>48</th>\n",
              "      <td>PETCT_05808cf24e</td>\n",
              "      <td>3/18/2006</td>\n",
              "      <td>48</td>\n",
              "      <td>M</td>\n",
              "      <td>NEGATIVE</td>\n",
              "      <td>False</td>\n",
              "    </tr>\n",
              "    <tr>\n",
              "      <th>47</th>\n",
              "      <td>PETCT_05808cf24e</td>\n",
              "      <td>7/29/1999</td>\n",
              "      <td>48</td>\n",
              "      <td>M</td>\n",
              "      <td>LYMPHOMA</td>\n",
              "      <td>True</td>\n",
              "    </tr>\n",
              "    <tr>\n",
              "      <th>50</th>\n",
              "      <td>PETCT_05808cf24e</td>\n",
              "      <td>7/29/1999</td>\n",
              "      <td>48</td>\n",
              "      <td>M</td>\n",
              "      <td>LYMPHOMA</td>\n",
              "      <td>True</td>\n",
              "    </tr>\n",
              "    <tr>\n",
              "      <th>55</th>\n",
              "      <td>PETCT_05808cf24e</td>\n",
              "      <td>7/29/1999</td>\n",
              "      <td>48</td>\n",
              "      <td>M</td>\n",
              "      <td>LYMPHOMA</td>\n",
              "      <td>True</td>\n",
              "    </tr>\n",
              "  </tbody>\n",
              "</table>\n",
              "</div>\n",
              "    <div class=\"colab-df-buttons\">\n",
              "\n",
              "  <div class=\"colab-df-container\">\n",
              "    <button class=\"colab-df-convert\" onclick=\"convertToInteractive('df-988205fe-b153-4d85-a527-3ebcd4fa30ba')\"\n",
              "            title=\"Convert this dataframe to an interactive table.\"\n",
              "            style=\"display:none;\">\n",
              "\n",
              "  <svg xmlns=\"http://www.w3.org/2000/svg\" height=\"24px\" viewBox=\"0 -960 960 960\">\n",
              "    <path d=\"M120-120v-720h720v720H120Zm60-500h600v-160H180v160Zm220 220h160v-160H400v160Zm0 220h160v-160H400v160ZM180-400h160v-160H180v160Zm440 0h160v-160H620v160ZM180-180h160v-160H180v160Zm440 0h160v-160H620v160Z\"/>\n",
              "  </svg>\n",
              "    </button>\n",
              "\n",
              "  <style>\n",
              "    .colab-df-container {\n",
              "      display:flex;\n",
              "      gap: 12px;\n",
              "    }\n",
              "\n",
              "    .colab-df-convert {\n",
              "      background-color: #E8F0FE;\n",
              "      border: none;\n",
              "      border-radius: 50%;\n",
              "      cursor: pointer;\n",
              "      display: none;\n",
              "      fill: #1967D2;\n",
              "      height: 32px;\n",
              "      padding: 0 0 0 0;\n",
              "      width: 32px;\n",
              "    }\n",
              "\n",
              "    .colab-df-convert:hover {\n",
              "      background-color: #E2EBFA;\n",
              "      box-shadow: 0px 1px 2px rgba(60, 64, 67, 0.3), 0px 1px 3px 1px rgba(60, 64, 67, 0.15);\n",
              "      fill: #174EA6;\n",
              "    }\n",
              "\n",
              "    .colab-df-buttons div {\n",
              "      margin-bottom: 4px;\n",
              "    }\n",
              "\n",
              "    [theme=dark] .colab-df-convert {\n",
              "      background-color: #3B4455;\n",
              "      fill: #D2E3FC;\n",
              "    }\n",
              "\n",
              "    [theme=dark] .colab-df-convert:hover {\n",
              "      background-color: #434B5C;\n",
              "      box-shadow: 0px 1px 3px 1px rgba(0, 0, 0, 0.15);\n",
              "      filter: drop-shadow(0px 1px 2px rgba(0, 0, 0, 0.3));\n",
              "      fill: #FFFFFF;\n",
              "    }\n",
              "  </style>\n",
              "\n",
              "    <script>\n",
              "      const buttonEl =\n",
              "        document.querySelector('#df-988205fe-b153-4d85-a527-3ebcd4fa30ba button.colab-df-convert');\n",
              "      buttonEl.style.display =\n",
              "        google.colab.kernel.accessAllowed ? 'block' : 'none';\n",
              "\n",
              "      async function convertToInteractive(key) {\n",
              "        const element = document.querySelector('#df-988205fe-b153-4d85-a527-3ebcd4fa30ba');\n",
              "        const dataTable =\n",
              "          await google.colab.kernel.invokeFunction('convertToInteractive',\n",
              "                                                    [key], {});\n",
              "        if (!dataTable) return;\n",
              "\n",
              "        const docLinkHtml = 'Like what you see? Visit the ' +\n",
              "          '<a target=\"_blank\" href=https://colab.research.google.com/notebooks/data_table.ipynb>data table notebook</a>'\n",
              "          + ' to learn more about interactive tables.';\n",
              "        element.innerHTML = '';\n",
              "        dataTable['output_type'] = 'display_data';\n",
              "        await google.colab.output.renderOutput(dataTable, element);\n",
              "        const docLink = document.createElement('div');\n",
              "        docLink.innerHTML = docLinkHtml;\n",
              "        element.appendChild(docLink);\n",
              "      }\n",
              "    </script>\n",
              "  </div>\n",
              "\n",
              "\n",
              "<div id=\"df-ab5a50ef-57ff-4246-aec7-998819521d27\">\n",
              "  <button class=\"colab-df-quickchart\" onclick=\"quickchart('df-ab5a50ef-57ff-4246-aec7-998819521d27')\"\n",
              "            title=\"Suggest charts\"\n",
              "            style=\"display:none;\">\n",
              "\n",
              "<svg xmlns=\"http://www.w3.org/2000/svg\" height=\"24px\"viewBox=\"0 0 24 24\"\n",
              "     width=\"24px\">\n",
              "    <g>\n",
              "        <path d=\"M19 3H5c-1.1 0-2 .9-2 2v14c0 1.1.9 2 2 2h14c1.1 0 2-.9 2-2V5c0-1.1-.9-2-2-2zM9 17H7v-7h2v7zm4 0h-2V7h2v10zm4 0h-2v-4h2v4z\"/>\n",
              "    </g>\n",
              "</svg>\n",
              "  </button>\n",
              "\n",
              "<style>\n",
              "  .colab-df-quickchart {\n",
              "      --bg-color: #E8F0FE;\n",
              "      --fill-color: #1967D2;\n",
              "      --hover-bg-color: #E2EBFA;\n",
              "      --hover-fill-color: #174EA6;\n",
              "      --disabled-fill-color: #AAA;\n",
              "      --disabled-bg-color: #DDD;\n",
              "  }\n",
              "\n",
              "  [theme=dark] .colab-df-quickchart {\n",
              "      --bg-color: #3B4455;\n",
              "      --fill-color: #D2E3FC;\n",
              "      --hover-bg-color: #434B5C;\n",
              "      --hover-fill-color: #FFFFFF;\n",
              "      --disabled-bg-color: #3B4455;\n",
              "      --disabled-fill-color: #666;\n",
              "  }\n",
              "\n",
              "  .colab-df-quickchart {\n",
              "    background-color: var(--bg-color);\n",
              "    border: none;\n",
              "    border-radius: 50%;\n",
              "    cursor: pointer;\n",
              "    display: none;\n",
              "    fill: var(--fill-color);\n",
              "    height: 32px;\n",
              "    padding: 0;\n",
              "    width: 32px;\n",
              "  }\n",
              "\n",
              "  .colab-df-quickchart:hover {\n",
              "    background-color: var(--hover-bg-color);\n",
              "    box-shadow: 0 1px 2px rgba(60, 64, 67, 0.3), 0 1px 3px 1px rgba(60, 64, 67, 0.15);\n",
              "    fill: var(--button-hover-fill-color);\n",
              "  }\n",
              "\n",
              "  .colab-df-quickchart-complete:disabled,\n",
              "  .colab-df-quickchart-complete:disabled:hover {\n",
              "    background-color: var(--disabled-bg-color);\n",
              "    fill: var(--disabled-fill-color);\n",
              "    box-shadow: none;\n",
              "  }\n",
              "\n",
              "  .colab-df-spinner {\n",
              "    border: 2px solid var(--fill-color);\n",
              "    border-color: transparent;\n",
              "    border-bottom-color: var(--fill-color);\n",
              "    animation:\n",
              "      spin 1s steps(1) infinite;\n",
              "  }\n",
              "\n",
              "  @keyframes spin {\n",
              "    0% {\n",
              "      border-color: transparent;\n",
              "      border-bottom-color: var(--fill-color);\n",
              "      border-left-color: var(--fill-color);\n",
              "    }\n",
              "    20% {\n",
              "      border-color: transparent;\n",
              "      border-left-color: var(--fill-color);\n",
              "      border-top-color: var(--fill-color);\n",
              "    }\n",
              "    30% {\n",
              "      border-color: transparent;\n",
              "      border-left-color: var(--fill-color);\n",
              "      border-top-color: var(--fill-color);\n",
              "      border-right-color: var(--fill-color);\n",
              "    }\n",
              "    40% {\n",
              "      border-color: transparent;\n",
              "      border-right-color: var(--fill-color);\n",
              "      border-top-color: var(--fill-color);\n",
              "    }\n",
              "    60% {\n",
              "      border-color: transparent;\n",
              "      border-right-color: var(--fill-color);\n",
              "    }\n",
              "    80% {\n",
              "      border-color: transparent;\n",
              "      border-right-color: var(--fill-color);\n",
              "      border-bottom-color: var(--fill-color);\n",
              "    }\n",
              "    90% {\n",
              "      border-color: transparent;\n",
              "      border-bottom-color: var(--fill-color);\n",
              "    }\n",
              "  }\n",
              "</style>\n",
              "\n",
              "  <script>\n",
              "    async function quickchart(key) {\n",
              "      const quickchartButtonEl =\n",
              "        document.querySelector('#' + key + ' button');\n",
              "      quickchartButtonEl.disabled = true;  // To prevent multiple clicks.\n",
              "      quickchartButtonEl.classList.add('colab-df-spinner');\n",
              "      try {\n",
              "        const charts = await google.colab.kernel.invokeFunction(\n",
              "            'suggestCharts', [key], {});\n",
              "      } catch (error) {\n",
              "        console.error('Error during call to suggestCharts:', error);\n",
              "      }\n",
              "      quickchartButtonEl.classList.remove('colab-df-spinner');\n",
              "      quickchartButtonEl.classList.add('colab-df-quickchart-complete');\n",
              "    }\n",
              "    (() => {\n",
              "      let quickchartButtonEl =\n",
              "        document.querySelector('#df-ab5a50ef-57ff-4246-aec7-998819521d27 button');\n",
              "      quickchartButtonEl.style.display =\n",
              "        google.colab.kernel.accessAllowed ? 'block' : 'none';\n",
              "    })();\n",
              "  </script>\n",
              "</div>\n",
              "    </div>\n",
              "  </div>\n"
            ]
          },
          "metadata": {},
          "execution_count": 16
        }
      ]
    },
    {
      "cell_type": "code",
      "source": [
        "len(duplicates_df)"
      ],
      "metadata": {
        "colab": {
          "base_uri": "https://localhost:8080/"
        },
        "id": "ddzynWbujB1u",
        "outputId": "1a97e4d1-06a2-4e61-aa4c-6fcb242f95a3"
      },
      "execution_count": null,
      "outputs": [
        {
          "output_type": "execute_result",
          "data": {
            "text/plain": [
              "216"
            ]
          },
          "metadata": {},
          "execution_count": 17
        }
      ]
    },
    {
      "cell_type": "code",
      "source": [
        "## split and save files :\n",
        "X = df2.drop(columns = ['cancer_flag'])\n",
        "y = df2['cancer_flag']"
      ],
      "metadata": {
        "id": "YR0HR6--8RyI"
      },
      "execution_count": null,
      "outputs": []
    },
    {
      "cell_type": "code",
      "source": [
        "X_train, X_test, y_train, y_test = train_test_split( X, y, test_size=TEST_SPLIT, random_state=42)"
      ],
      "metadata": {
        "id": "RTYitMNh8gbI"
      },
      "execution_count": null,
      "outputs": []
    },
    {
      "cell_type": "code",
      "source": [
        "print(\"Training data \", len(X_train))\n",
        "print(\"Testing data \", len(X_test))"
      ],
      "metadata": {
        "colab": {
          "base_uri": "https://localhost:8080/"
        },
        "id": "6-zSzZfz8gd4",
        "outputId": "56a62717-ea60-40bf-99fc-4ab3df0649c0"
      },
      "execution_count": null,
      "outputs": [
        {
          "output_type": "stream",
          "name": "stdout",
          "text": [
            "Training data  744\n",
            "Testing data  186\n"
          ]
        }
      ]
    },
    {
      "cell_type": "markdown",
      "source": [
        "#### Save the dataset for train test split by merging the columns back"
      ],
      "metadata": {
        "id": "BjM-2dPsDNjb"
      }
    },
    {
      "cell_type": "code",
      "source": [
        "X_train['cancer_flag'] = y_train\n",
        "X_train.to_csv(\"train_subject_data.csv\")\n",
        "\n",
        "X_test['cancer_flag'] = y_test\n",
        "X_test.to_csv(\"test_subject_data.csv\")"
      ],
      "metadata": {
        "id": "-QJCmWFABvtj"
      },
      "execution_count": null,
      "outputs": []
    },
    {
      "cell_type": "code",
      "source": [
        "train_data = X_train.merge(df.drop(columns=['age','sex','diagnosis','cancer_flag']) , how='inner', on='Subject ID')\n",
        "test_data =  X_test.merge(df.drop(columns=['age','sex','diagnosis','cancer_flag']) , how='inner', on='Subject ID')\n",
        "\n",
        "train_data.to_csv('train_data.csv')\n",
        "test_data.to_csv('test_data.csv')"
      ],
      "metadata": {
        "id": "g3PKTQrOCBuj"
      },
      "execution_count": null,
      "outputs": []
    },
    {
      "cell_type": "markdown",
      "source": [
        "### How many patients have cancer and of what type ?  We're only considering if a patient has cancer or not"
      ],
      "metadata": {
        "id": "kawmc7Ov3_6N"
      }
    },
    {
      "cell_type": "markdown",
      "source": [
        "### How many patients have cancer ? Dataset is balanced"
      ],
      "metadata": {
        "id": "rKfEB8VB4DN1"
      }
    },
    {
      "cell_type": "code",
      "source": [],
      "metadata": {
        "id": "bOjbbwi-hGsF"
      },
      "execution_count": null,
      "outputs": []
    },
    {
      "cell_type": "code",
      "source": [
        "# df2 = df2\n",
        "# print(df2['cancer_flag'].value_counts())\n",
        "(df2['cancer_flag'].value_counts()).plot(kind='bar')\n",
        "\n",
        "plt.ylabel(\"Total Count\")\n",
        "plt.xlabel(\"Cancer\")\n",
        "plt.xticks(rotation=0)\n",
        "plt.title(\"Distribution of cancer cases\")\n",
        "plt.grid(True)\n",
        "plt.show()"
      ],
      "metadata": {
        "colab": {
          "base_uri": "https://localhost:8080/",
          "height": 472
        },
        "id": "F2fcYlhL4FjF",
        "outputId": "4686047e-ab87-49c9-9557-4f808c080c1e"
      },
      "execution_count": null,
      "outputs": [
        {
          "output_type": "display_data",
          "data": {
            "text/plain": [
              "<Figure size 640x480 with 1 Axes>"
            ],
            "image/png": "[encoded data removed]"
          },
          "metadata": {}
        }
      ]
    },
    {
      "cell_type": "markdown",
      "source": [
        "### Age distribution of cancer ? Skewed towarads 60"
      ],
      "metadata": {
        "id": "YaKAKOnW4TGt"
      }
    },
    {
      "cell_type": "code",
      "source": [
        "plt.hist(df2['age'], bins = 10)\n",
        "plt.xlabel(\"Age of Patients\")\n",
        "plt.ylabel(\"Count\")\n",
        "plt.title(\"Age Distribution of Subjects\")\n",
        "plt.grid(True)\n",
        "plt.show()\n",
        "\n"
      ],
      "metadata": {
        "colab": {
          "base_uri": "https://localhost:8080/",
          "height": 472
        },
        "id": "iGh_2HVYzyaP",
        "outputId": "bc7fc943-3c5d-4e37-bef7-dbf0032e879c"
      },
      "execution_count": null,
      "outputs": [
        {
          "output_type": "display_data",
          "data": {
            "text/plain": [
              "<Figure size 640x480 with 1 Axes>"
            ],
            "image/png": "[encoded data removed]"
          },
          "metadata": {}
        }
      ]
    },
    {
      "cell_type": "code",
      "source": [
        "df2.age.mean()"
      ],
      "metadata": {
        "colab": {
          "base_uri": "https://localhost:8080/"
        },
        "id": "ErsiXUx6lXeg",
        "outputId": "d7770e8b-7526-4452-b8ef-06757262e2d8"
      },
      "execution_count": null,
      "outputs": [
        {
          "output_type": "execute_result",
          "data": {
            "text/plain": [
              "59.472043010752685"
            ]
          },
          "metadata": {},
          "execution_count": 25
        }
      ]
    },
    {
      "cell_type": "code",
      "source": [
        "result = pd.merge(df2, df[['Subject ID', 'diagnosis']], on='Subject ID', how='inner')\n",
        "result.drop_duplicates(inplace=True)"
      ],
      "metadata": {
        "id": "GK57Oar7hk8E"
      },
      "execution_count": null,
      "outputs": []
    },
    {
      "cell_type": "code",
      "source": [
        "(result['diagnosis'].value_counts()).plot(kind='bar')\n",
        "plt.ylabel(\"Total Count\")\n",
        "plt.xlabel(\"Type of Cancer\")\n",
        "# plt.xlabel(\"Count\")\n",
        "plt.title(\"Distribution of different cancer types\")\n",
        "plt.xticks(rotation=0)\n",
        "plt.grid(True)\n",
        "plt.show()"
      ],
      "metadata": {
        "id": "EGb6ElG13qkm",
        "colab": {
          "base_uri": "https://localhost:8080/",
          "height": 472
        },
        "outputId": "f00271e9-7aee-4195-ee8d-10ab43f6b53b"
      },
      "execution_count": null,
      "outputs": [
        {
          "output_type": "display_data",
          "data": {
            "text/plain": [
              "<Figure size 640x480 with 1 Axes>"
            ],
            "image/png": "[encoded data removed]"
          },
          "metadata": {}
        }
      ]
    },
    {
      "cell_type": "code",
      "source": [
        "grouped = result.groupby(['diagnosis', 'sex']).size().reset_index(name='count')"
      ],
      "metadata": {
        "id": "GiC8TeTshxyQ"
      },
      "execution_count": null,
      "outputs": []
    },
    {
      "cell_type": "code",
      "source": [
        "pivot_table = grouped.pivot(index='diagnosis', columns='sex', values='count').fillna(0)\n",
        "\n",
        "# Plotting the bar graph\n",
        "pivot_table.plot(kind='bar', stacked=False)\n",
        "plt.xlabel('Cancer Flag')\n",
        "plt.ylabel('Count')\n",
        "plt.title('Gender distribution of cancer type')\n",
        "plt.legend(title='Sex')\n",
        "plt.xticks(rotation=0)\n",
        "plt.grid(True)\n",
        "plt.show()"
      ],
      "metadata": {
        "id": "lCLeBaCV-uxh",
        "colab": {
          "base_uri": "https://localhost:8080/",
          "height": 472
        },
        "outputId": "6d78211a-0649-4791-89e6-c3634083002b"
      },
      "execution_count": null,
      "outputs": [
        {
          "output_type": "display_data",
          "data": {
            "text/plain": [
              "<Figure size 640x480 with 1 Axes>"
            ],
            "image/png": "[encoded data removed]"
          },
          "metadata": {}
        }
      ]
    },
    {
      "cell_type": "code",
      "source": [],
      "metadata": {
        "id": "lNRmPC9QmDBf"
      },
      "execution_count": null,
      "outputs": []
    }
  ]
}